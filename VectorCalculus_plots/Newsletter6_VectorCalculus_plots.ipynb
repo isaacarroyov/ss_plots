{
 "cells": [
  {
   "cell_type": "markdown",
   "metadata": {},
   "source": [
    "# Newsletter 6. Vector Calculus: Surface Integrals"
   ]
  },
  {
   "cell_type": "markdown",
   "metadata": {},
   "source": [
    "## Libraries and main settings"
   ]
  },
  {
   "cell_type": "code",
   "execution_count": 1,
   "metadata": {},
   "outputs": [],
   "source": [
    "#Numerical computation\n",
    "import numpy as np\n",
    "\n",
    "#graph library\n",
    "import matplotlib.pyplot as plt\n",
    "\n",
    "#3d frame \n",
    "from mpl_toolkits.mplot3d import Axes3D\n",
    "\n",
    "#To recognize LaTeX commands\n",
    "plt.rc('text', usetex=True)\n",
    "\n",
    "#font family\n",
    "plt.rc('font', family='serif')\n",
    "\n",
    "#style sheet\n",
    "plt.style.use('dark_background')\n",
    "\n",
    "#change the background color \n",
    "c_background = (31/255, 26/255, 42/255)"
   ]
  },
  {
   "cell_type": "code",
   "execution_count": null,
   "metadata": {},
   "outputs": [],
   "source": []
  }
 ],
 "metadata": {
  "hide_input": false,
  "kernelspec": {
   "display_name": "Python 3",
   "language": "python",
   "name": "python3"
  },
  "language_info": {
   "codemirror_mode": {
    "name": "ipython",
    "version": 3
   },
   "file_extension": ".py",
   "mimetype": "text/x-python",
   "name": "python",
   "nbconvert_exporter": "python",
   "pygments_lexer": "ipython3",
   "version": "3.8.1"
  },
  "latex_envs": {
   "LaTeX_envs_menu_present": true,
   "autoclose": false,
   "autocomplete": true,
   "bibliofile": "biblio.bib",
   "cite_by": "apalike",
   "current_citInitial": 1,
   "eqLabelWithNumbers": true,
   "eqNumInitial": 1,
   "hotkeys": {
    "equation": "Ctrl-E",
    "itemize": "Ctrl-I"
   },
   "labels_anchors": false,
   "latex_user_defs": false,
   "report_style_numbering": false,
   "user_envs_cfg": false
  }
 },
 "nbformat": 4,
 "nbformat_minor": 4
}
